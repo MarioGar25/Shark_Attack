{
 "cells": [
  {
   "cell_type": "markdown",
   "metadata": {},
   "source": [
    "# Analisys"
   ]
  },
  {
   "cell_type": "code",
   "execution_count": 13,
   "metadata": {},
   "outputs": [],
   "source": [
    "import pandas as pd\n",
    "import numpy as np\n",
    "import seaborn as sns\n",
    "import matplotlib.pyplot as plt"
   ]
  },
  {
   "cell_type": "code",
   "execution_count": 14,
   "metadata": {},
   "outputs": [],
   "source": [
    "sharks = pd.read_csv(\"data/sharks.csv\")"
   ]
  },
  {
   "cell_type": "markdown",
   "metadata": {},
   "source": [
    "## First hypothesis"
   ]
  },
  {
   "cell_type": "markdown",
   "metadata": {},
   "source": [
    "***Shark attacks have decreased in the last 20 years.***"
   ]
  },
  {
   "cell_type": "code",
   "execution_count": 15,
   "metadata": {},
   "outputs": [
    {
     "data": {
      "text/html": [
       "<div>\n",
       "<style scoped>\n",
       "    .dataframe tbody tr th:only-of-type {\n",
       "        vertical-align: middle;\n",
       "    }\n",
       "\n",
       "    .dataframe tbody tr th {\n",
       "        vertical-align: top;\n",
       "    }\n",
       "\n",
       "    .dataframe thead th {\n",
       "        text-align: right;\n",
       "    }\n",
       "</style>\n",
       "<table border=\"1\" class=\"dataframe\">\n",
       "  <thead>\n",
       "    <tr style=\"text-align: right;\">\n",
       "      <th></th>\n",
       "      <th>original_order</th>\n",
       "      <th>Year</th>\n",
       "      <th>Country</th>\n",
       "      <th>Activity</th>\n",
       "      <th>Age</th>\n",
       "      <th>Fatal_(Y/N)</th>\n",
       "      <th>Month</th>\n",
       "    </tr>\n",
       "  </thead>\n",
       "  <tbody>\n",
       "    <tr>\n",
       "      <th>0</th>\n",
       "      <td>6303.0</td>\n",
       "      <td>2018</td>\n",
       "      <td>USA</td>\n",
       "      <td>Paddling</td>\n",
       "      <td>57</td>\n",
       "      <td>N</td>\n",
       "      <td>Jun</td>\n",
       "    </tr>\n",
       "    <tr>\n",
       "      <th>1</th>\n",
       "      <td>6302.0</td>\n",
       "      <td>2018</td>\n",
       "      <td>USA</td>\n",
       "      <td>Standing</td>\n",
       "      <td>11</td>\n",
       "      <td>N</td>\n",
       "      <td>Jun</td>\n",
       "    </tr>\n",
       "    <tr>\n",
       "      <th>2</th>\n",
       "      <td>6301.0</td>\n",
       "      <td>2018</td>\n",
       "      <td>USA</td>\n",
       "      <td>Surfing</td>\n",
       "      <td>48</td>\n",
       "      <td>N</td>\n",
       "      <td>Jun</td>\n",
       "    </tr>\n",
       "    <tr>\n",
       "      <th>3</th>\n",
       "      <td>6300.0</td>\n",
       "      <td>2018</td>\n",
       "      <td>AUSTRALIA</td>\n",
       "      <td>Surfing</td>\n",
       "      <td>NaN</td>\n",
       "      <td>N</td>\n",
       "      <td>Jun</td>\n",
       "    </tr>\n",
       "    <tr>\n",
       "      <th>4</th>\n",
       "      <td>6299.0</td>\n",
       "      <td>2018</td>\n",
       "      <td>MEXICO</td>\n",
       "      <td>Free diving</td>\n",
       "      <td>NaN</td>\n",
       "      <td>N</td>\n",
       "      <td>Jun</td>\n",
       "    </tr>\n",
       "  </tbody>\n",
       "</table>\n",
       "</div>"
      ],
      "text/plain": [
       "   original_order  Year    Country     Activity  Age Fatal_(Y/N) Month\n",
       "0          6303.0  2018        USA     Paddling   57           N   Jun\n",
       "1          6302.0  2018        USA     Standing   11           N   Jun\n",
       "2          6301.0  2018        USA      Surfing   48           N   Jun\n",
       "3          6300.0  2018  AUSTRALIA      Surfing  NaN           N   Jun\n",
       "4          6299.0  2018     MEXICO  Free diving  NaN           N   Jun"
      ]
     },
     "execution_count": 15,
     "metadata": {},
     "output_type": "execute_result"
    }
   ],
   "source": [
    "sharks.head() #check the Dataframe"
   ]
  },
  {
   "cell_type": "code",
   "execution_count": 16,
   "metadata": {},
   "outputs": [],
   "source": [
    "plt.rcParams[\"figure.figsize\"] = [12.0, 4.0] #change graphic settings"
   ]
  },
  {
   "cell_type": "code",
   "execution_count": 17,
   "metadata": {},
   "outputs": [
    {
     "data": {
      "image/png": "[encoded data removed]",
      "text/plain": [
       "<Figure size 864x288 with 1 Axes>"
      ]
     },
     "metadata": {
      "needs_background": "light"
     },
     "output_type": "display_data"
    }
   ],
   "source": [
    "sns_1 = sns.countplot(data = sharks, x = \"Year\", palette = \"Blues\") \n",
    "#To test the hypothesis, we use the clean data to generate a countplot to see how many attacks occur each year. \n",
    "#In the DataFrame we can see that in 2018 there is a dip in attacks, that is because it stopped counting in the month of June. \n",
    "#So it is not significant.\n",
    "#Otherwise, it seems that shark attacks, in general lines, are on the rise, they have practically doubled in these last 20 years."
   ]
  },
  {
   "cell_type": "code",
   "execution_count": 18,
   "metadata": {},
   "outputs": [
    {
     "data": {
      "image/png": "[encoded data removed]",
      "text/plain": [
       "<Figure size 864x288 with 1 Axes>"
      ]
     },
     "metadata": {
      "needs_background": "light"
     },
     "output_type": "display_data"
    }
   ],
   "source": [
    "sns_2 = sns.histplot(data = sharks, x = \"Year\", kde=True)\n",
    "#To see the increase more clearly, we see the line in this graph slowly increasing every year."
   ]
  },
  {
   "cell_type": "code",
   "execution_count": 19,
   "metadata": {},
   "outputs": [],
   "source": [
    "sharks[\"Year_range\"] = pd.cut(sharks[\"Year\"], bins=[1998, 2003, 2008, 2013, 2018])\n",
    "#Next, we will put in 5-year containers to see if the increase is more visible."
   ]
  },
  {
   "cell_type": "code",
   "execution_count": 20,
   "metadata": {},
   "outputs": [
    {
     "data": {
      "text/plain": [
       "(2008, 2013]    579\n",
       "(2013, 2018]    578\n",
       "(2003, 2008]    513\n",
       "(1998, 2003]    412\n",
       "Name: Year_range, dtype: int64"
      ]
     },
     "execution_count": 20,
     "metadata": {},
     "output_type": "execute_result"
    }
   ],
   "source": [
    "sharks[\"Year_range\"].value_counts()"
   ]
  },
  {
   "cell_type": "code",
   "execution_count": 21,
   "metadata": {},
   "outputs": [
    {
     "data": {
      "image/png": "[encoded data removed]",
      "text/plain": [
       "<Figure size 864x288 with 1 Axes>"
      ]
     },
     "metadata": {
      "needs_background": "light"
     },
     "output_type": "display_data"
    }
   ],
   "source": [
    "sns_3 = sns.countplot(data = sharks, x = \"Year_range\", palette = \"Reds\")\n",
    "#With the following graph, we can see that from 1998 to 2008, that is, the first decade of our sample, \n",
    "#the increase every 5 years has been more pronounced than in the second decade. \n",
    "#In fact, in this decade we can see some stabilization."
   ]
  },
  {
   "cell_type": "code",
   "execution_count": 22,
   "metadata": {},
   "outputs": [
    {
     "data": {
      "image/png": "[encoded data removed]",
      "text/plain": [
       "<Figure size 864x288 with 1 Axes>"
      ]
     },
     "metadata": {
      "needs_background": "light"
     },
     "output_type": "display_data"
    }
   ],
   "source": [
    "sns_4 = sharks[\"Year\"].value_counts().sort_index().plot(kind=\"line\")\n",
    "#This graph also shows the increase in the number of attacks."
   ]
  },
  {
   "cell_type": "markdown",
   "metadata": {},
   "source": [
    "Finally, we have to *reject* the hypothesis that, in the last 20 years, **attacks have increased.**"
   ]
  },
  {
   "cell_type": "markdown",
   "metadata": {},
   "source": [
    "## Second hypothesis"
   ]
  },
  {
   "cell_type": "markdown",
   "metadata": {},
   "source": [
    "***Shark attacks occur more in the summer months.***"
   ]
  },
  {
   "cell_type": "code",
   "execution_count": 24,
   "metadata": {},
   "outputs": [
    {
     "data": {
      "text/plain": [
       "<AxesSubplot:xlabel='Month', ylabel='count'>"
      ]
     },
     "execution_count": 24,
     "metadata": {},
     "output_type": "execute_result"
    },
    {
     "data": {
      "image/png": "[encoded data removed]",
      "text/plain": [
       "<Figure size 864x288 with 1 Axes>"
      ]
     },
     "metadata": {
      "needs_background": "light"
     },
     "output_type": "display_data"
    }
   ],
   "source": [
    "sns_5 = sns.countplot(data = sharks, x = \"Month\")\n",
    "#It seems that most attacks take place from June to September, where they coincide with summer in northern hemisphere countries. The number of attacks decreases in the northern winter. \n",
    "#But will this also happen in southern hemisphere countries?"
   ]
  },
  {
   "cell_type": "code",
   "execution_count": 33,
   "metadata": {},
   "outputs": [],
   "source": [
    "sharks_c = sharks[\"Country\"].value_counts() #But, will it be the same in countries in other hemispheres?"
   ]
  },
  {
   "cell_type": "code",
   "execution_count": 34,
   "metadata": {},
   "outputs": [
    {
     "data": {
      "text/plain": [
       "USA              1057\n",
       "AUSTRALIA         400\n",
       "SOUTH AFRICA      159\n",
       "BRAZIL             64\n",
       "BAHAMAS            52\n",
       "NEW ZEALAND        44\n",
       "REUNION            34\n",
       "NEW CALEDONIA      25\n",
       "EGYPT              21\n",
       "MEXICO             21\n",
       "Name: Country, dtype: int64"
      ]
     },
     "execution_count": 34,
     "metadata": {},
     "output_type": "execute_result"
    }
   ],
   "source": [
    "sharks_c.iloc[:10] #select the first two, both of which are from different hemispheres."
   ]
  },
  {
   "cell_type": "code",
   "execution_count": 35,
   "metadata": {},
   "outputs": [],
   "source": [
    "sharks_c = sharks_c[sharks_c > 200].index #let's take the two first to compare"
   ]
  },
  {
   "cell_type": "code",
   "execution_count": 36,
   "metadata": {},
   "outputs": [],
   "source": [
    "top_countries = sharks[sharks[\"Country\"].isin(sharks_c)].copy()"
   ]
  },
  {
   "cell_type": "code",
   "execution_count": 37,
   "metadata": {},
   "outputs": [
    {
     "data": {
      "text/html": [
       "<div>\n",
       "<style scoped>\n",
       "    .dataframe tbody tr th:only-of-type {\n",
       "        vertical-align: middle;\n",
       "    }\n",
       "\n",
       "    .dataframe tbody tr th {\n",
       "        vertical-align: top;\n",
       "    }\n",
       "\n",
       "    .dataframe thead th {\n",
       "        text-align: right;\n",
       "    }\n",
       "</style>\n",
       "<table border=\"1\" class=\"dataframe\">\n",
       "  <thead>\n",
       "    <tr style=\"text-align: right;\">\n",
       "      <th></th>\n",
       "      <th>original_order</th>\n",
       "      <th>Year</th>\n",
       "      <th>Country</th>\n",
       "      <th>Activity</th>\n",
       "      <th>Age</th>\n",
       "      <th>Fatal_(Y/N)</th>\n",
       "      <th>Month</th>\n",
       "      <th>Year_range</th>\n",
       "    </tr>\n",
       "  </thead>\n",
       "  <tbody>\n",
       "    <tr>\n",
       "      <th>0</th>\n",
       "      <td>6303.0</td>\n",
       "      <td>2018</td>\n",
       "      <td>USA</td>\n",
       "      <td>Paddling</td>\n",
       "      <td>57</td>\n",
       "      <td>N</td>\n",
       "      <td>Jun</td>\n",
       "      <td>(2013, 2018]</td>\n",
       "    </tr>\n",
       "    <tr>\n",
       "      <th>1</th>\n",
       "      <td>6302.0</td>\n",
       "      <td>2018</td>\n",
       "      <td>USA</td>\n",
       "      <td>Standing</td>\n",
       "      <td>11</td>\n",
       "      <td>N</td>\n",
       "      <td>Jun</td>\n",
       "      <td>(2013, 2018]</td>\n",
       "    </tr>\n",
       "    <tr>\n",
       "      <th>2</th>\n",
       "      <td>6301.0</td>\n",
       "      <td>2018</td>\n",
       "      <td>USA</td>\n",
       "      <td>Surfing</td>\n",
       "      <td>48</td>\n",
       "      <td>N</td>\n",
       "      <td>Jun</td>\n",
       "      <td>(2013, 2018]</td>\n",
       "    </tr>\n",
       "    <tr>\n",
       "      <th>3</th>\n",
       "      <td>6300.0</td>\n",
       "      <td>2018</td>\n",
       "      <td>AUSTRALIA</td>\n",
       "      <td>Surfing</td>\n",
       "      <td>NaN</td>\n",
       "      <td>N</td>\n",
       "      <td>Jun</td>\n",
       "      <td>(2013, 2018]</td>\n",
       "    </tr>\n",
       "    <tr>\n",
       "      <th>5</th>\n",
       "      <td>6298.0</td>\n",
       "      <td>2018</td>\n",
       "      <td>AUSTRALIA</td>\n",
       "      <td>Kite surfing</td>\n",
       "      <td>NaN</td>\n",
       "      <td>N</td>\n",
       "      <td>Jun</td>\n",
       "      <td>(2013, 2018]</td>\n",
       "    </tr>\n",
       "  </tbody>\n",
       "</table>\n",
       "</div>"
      ],
      "text/plain": [
       "   original_order  Year    Country      Activity  Age Fatal_(Y/N) Month  \\\n",
       "0          6303.0  2018        USA      Paddling   57           N   Jun   \n",
       "1          6302.0  2018        USA      Standing   11           N   Jun   \n",
       "2          6301.0  2018        USA       Surfing   48           N   Jun   \n",
       "3          6300.0  2018  AUSTRALIA       Surfing  NaN           N   Jun   \n",
       "5          6298.0  2018  AUSTRALIA  Kite surfing  NaN           N   Jun   \n",
       "\n",
       "     Year_range  \n",
       "0  (2013, 2018]  \n",
       "1  (2013, 2018]  \n",
       "2  (2013, 2018]  \n",
       "3  (2013, 2018]  \n",
       "5  (2013, 2018]  "
      ]
     },
     "execution_count": 37,
     "metadata": {},
     "output_type": "execute_result"
    }
   ],
   "source": [
    "top_countries.head() #check"
   ]
  },
  {
   "cell_type": "code",
   "execution_count": 38,
   "metadata": {},
   "outputs": [
    {
     "data": {
      "image/png": "[encoded data removed]",
      "text/plain": [
       "<Figure size 864x288 with 1 Axes>"
      ]
     },
     "metadata": {
      "needs_background": "light"
     },
     "output_type": "display_data"
    }
   ],
   "source": [
    "sns_6 = sns.countplot(data = top_countries, x = \"Month\", hue= \"Country\", palette = \"Set2\")\n",
    "#The following graph compares the two countries with the highest number of attacks. \n",
    "#One (USA) in the northern hemisphere, where summer lasts from June to September, and the other (Australia)\n",
    "#in the southern hemisphere, where summer lasts from approximately November to March. \n",
    "#As can be seen, this coincides with the graph, where the USA has more attacks in summer and Australia as well."
   ]
  },
  {
   "cell_type": "markdown",
   "metadata": {},
   "source": [
    "This hypothesis is confirmed at a general level, due to the fact that most cases occur in the USA, a country in the northern hemisphere, where the summer months coincide with Jun, Jul, Agu, Sep. However, in Australia, a country in the southern hemisphere and second in number of attacks, the months with the highest incidence are, curiously, Jan, Feb, Mar... the summer months in the southern hemisphere."
   ]
  },
  {
   "cell_type": "markdown",
   "metadata": {},
   "source": [
    "## Third hypothesis"
   ]
  },
  {
   "cell_type": "markdown",
   "metadata": {},
   "source": [
    "***Surfing is the activity where most attacks occur***"
   ]
  },
  {
   "cell_type": "code",
   "execution_count": 42,
   "metadata": {},
   "outputs": [],
   "source": [
    "sharks_c = sharks[\"Country\"].value_counts() \n",
    "#we select again the countries with the most occurrences, but in this case, we are going to select the top 10."
   ]
  },
  {
   "cell_type": "code",
   "execution_count": 43,
   "metadata": {},
   "outputs": [],
   "source": [
    "sharks_c = sharks_c[sharks_c > 50].index"
   ]
  },
  {
   "cell_type": "code",
   "execution_count": 44,
   "metadata": {},
   "outputs": [],
   "source": [
    "top_countries = sharks[sharks[\"Country\"].isin(sharks_c)].copy()"
   ]
  },
  {
   "cell_type": "code",
   "execution_count": 45,
   "metadata": {},
   "outputs": [
    {
     "data": {
      "text/html": [
       "<div>\n",
       "<style scoped>\n",
       "    .dataframe tbody tr th:only-of-type {\n",
       "        vertical-align: middle;\n",
       "    }\n",
       "\n",
       "    .dataframe tbody tr th {\n",
       "        vertical-align: top;\n",
       "    }\n",
       "\n",
       "    .dataframe thead th {\n",
       "        text-align: right;\n",
       "    }\n",
       "</style>\n",
       "<table border=\"1\" class=\"dataframe\">\n",
       "  <thead>\n",
       "    <tr style=\"text-align: right;\">\n",
       "      <th></th>\n",
       "      <th>original_order</th>\n",
       "      <th>Year</th>\n",
       "      <th>Country</th>\n",
       "      <th>Activity</th>\n",
       "      <th>Age</th>\n",
       "      <th>Fatal_(Y/N)</th>\n",
       "      <th>Month</th>\n",
       "      <th>Year_range</th>\n",
       "    </tr>\n",
       "  </thead>\n",
       "  <tbody>\n",
       "    <tr>\n",
       "      <th>0</th>\n",
       "      <td>6303.0</td>\n",
       "      <td>2018</td>\n",
       "      <td>USA</td>\n",
       "      <td>Paddling</td>\n",
       "      <td>57</td>\n",
       "      <td>N</td>\n",
       "      <td>Jun</td>\n",
       "      <td>(2013, 2018]</td>\n",
       "    </tr>\n",
       "    <tr>\n",
       "      <th>1</th>\n",
       "      <td>6302.0</td>\n",
       "      <td>2018</td>\n",
       "      <td>USA</td>\n",
       "      <td>Standing</td>\n",
       "      <td>11</td>\n",
       "      <td>N</td>\n",
       "      <td>Jun</td>\n",
       "      <td>(2013, 2018]</td>\n",
       "    </tr>\n",
       "    <tr>\n",
       "      <th>2</th>\n",
       "      <td>6301.0</td>\n",
       "      <td>2018</td>\n",
       "      <td>USA</td>\n",
       "      <td>Surfing</td>\n",
       "      <td>48</td>\n",
       "      <td>N</td>\n",
       "      <td>Jun</td>\n",
       "      <td>(2013, 2018]</td>\n",
       "    </tr>\n",
       "    <tr>\n",
       "      <th>3</th>\n",
       "      <td>6300.0</td>\n",
       "      <td>2018</td>\n",
       "      <td>AUSTRALIA</td>\n",
       "      <td>Surfing</td>\n",
       "      <td>NaN</td>\n",
       "      <td>N</td>\n",
       "      <td>Jun</td>\n",
       "      <td>(2013, 2018]</td>\n",
       "    </tr>\n",
       "    <tr>\n",
       "      <th>5</th>\n",
       "      <td>6298.0</td>\n",
       "      <td>2018</td>\n",
       "      <td>AUSTRALIA</td>\n",
       "      <td>Kite surfing</td>\n",
       "      <td>NaN</td>\n",
       "      <td>N</td>\n",
       "      <td>Jun</td>\n",
       "      <td>(2013, 2018]</td>\n",
       "    </tr>\n",
       "  </tbody>\n",
       "</table>\n",
       "</div>"
      ],
      "text/plain": [
       "   original_order  Year    Country      Activity  Age Fatal_(Y/N) Month  \\\n",
       "0          6303.0  2018        USA      Paddling   57           N   Jun   \n",
       "1          6302.0  2018        USA      Standing   11           N   Jun   \n",
       "2          6301.0  2018        USA       Surfing   48           N   Jun   \n",
       "3          6300.0  2018  AUSTRALIA       Surfing  NaN           N   Jun   \n",
       "5          6298.0  2018  AUSTRALIA  Kite surfing  NaN           N   Jun   \n",
       "\n",
       "     Year_range  \n",
       "0  (2013, 2018]  \n",
       "1  (2013, 2018]  \n",
       "2  (2013, 2018]  \n",
       "3  (2013, 2018]  \n",
       "5  (2013, 2018]  "
      ]
     },
     "execution_count": 45,
     "metadata": {},
     "output_type": "execute_result"
    }
   ],
   "source": [
    "top_countries.head()"
   ]
  },
  {
   "cell_type": "code",
   "execution_count": 46,
   "metadata": {},
   "outputs": [],
   "source": [
    "activities = sharks[\"Activity\"].value_counts() #we perform the same method as before."
   ]
  },
  {
   "cell_type": "code",
   "execution_count": 47,
   "metadata": {},
   "outputs": [
    {
     "data": {
      "text/plain": [
       "Surfing          665\n",
       "Swimming         285\n",
       "Fishing          117\n",
       "Spearfishing     111\n",
       "Wading            79\n",
       "Snorkeling        69\n",
       "Body boarding     47\n",
       "Diving            37\n",
       "Standing          36\n",
       "Scuba diving      35\n",
       "Name: Activity, dtype: int64"
      ]
     },
     "execution_count": 47,
     "metadata": {},
     "output_type": "execute_result"
    }
   ],
   "source": [
    "activities.iloc[:10]"
   ]
  },
  {
   "cell_type": "code",
   "execution_count": 48,
   "metadata": {},
   "outputs": [],
   "source": [
    "activities = activities[activities > 70].index #select top 5 activities."
   ]
  },
  {
   "cell_type": "code",
   "execution_count": 49,
   "metadata": {},
   "outputs": [],
   "source": [
    "top_activities = top_countries[top_countries[\"Activity\"].isin(activities)].copy()"
   ]
  },
  {
   "cell_type": "code",
   "execution_count": 50,
   "metadata": {},
   "outputs": [
    {
     "data": {
      "text/html": [
       "<div>\n",
       "<style scoped>\n",
       "    .dataframe tbody tr th:only-of-type {\n",
       "        vertical-align: middle;\n",
       "    }\n",
       "\n",
       "    .dataframe tbody tr th {\n",
       "        vertical-align: top;\n",
       "    }\n",
       "\n",
       "    .dataframe thead th {\n",
       "        text-align: right;\n",
       "    }\n",
       "</style>\n",
       "<table border=\"1\" class=\"dataframe\">\n",
       "  <thead>\n",
       "    <tr style=\"text-align: right;\">\n",
       "      <th></th>\n",
       "      <th>original_order</th>\n",
       "      <th>Year</th>\n",
       "      <th>Country</th>\n",
       "      <th>Activity</th>\n",
       "      <th>Age</th>\n",
       "      <th>Fatal_(Y/N)</th>\n",
       "      <th>Month</th>\n",
       "      <th>Year_range</th>\n",
       "    </tr>\n",
       "  </thead>\n",
       "  <tbody>\n",
       "    <tr>\n",
       "      <th>2</th>\n",
       "      <td>6301.0</td>\n",
       "      <td>2018</td>\n",
       "      <td>USA</td>\n",
       "      <td>Surfing</td>\n",
       "      <td>48</td>\n",
       "      <td>N</td>\n",
       "      <td>Jun</td>\n",
       "      <td>(2013.0, 2018.0]</td>\n",
       "    </tr>\n",
       "    <tr>\n",
       "      <th>3</th>\n",
       "      <td>6300.0</td>\n",
       "      <td>2018</td>\n",
       "      <td>AUSTRALIA</td>\n",
       "      <td>Surfing</td>\n",
       "      <td>NaN</td>\n",
       "      <td>N</td>\n",
       "      <td>Jun</td>\n",
       "      <td>(2013.0, 2018.0]</td>\n",
       "    </tr>\n",
       "    <tr>\n",
       "      <th>6</th>\n",
       "      <td>6297.0</td>\n",
       "      <td>2018</td>\n",
       "      <td>BRAZIL</td>\n",
       "      <td>Swimming</td>\n",
       "      <td>18</td>\n",
       "      <td>Y</td>\n",
       "      <td>Jun</td>\n",
       "      <td>(2013.0, 2018.0]</td>\n",
       "    </tr>\n",
       "    <tr>\n",
       "      <th>7</th>\n",
       "      <td>6296.0</td>\n",
       "      <td>2018</td>\n",
       "      <td>USA</td>\n",
       "      <td>Fishing</td>\n",
       "      <td>52</td>\n",
       "      <td>N</td>\n",
       "      <td>May</td>\n",
       "      <td>(2013.0, 2018.0]</td>\n",
       "    </tr>\n",
       "    <tr>\n",
       "      <th>12</th>\n",
       "      <td>6291.0</td>\n",
       "      <td>2018</td>\n",
       "      <td>USA</td>\n",
       "      <td>Swimming</td>\n",
       "      <td>10</td>\n",
       "      <td>N</td>\n",
       "      <td>May</td>\n",
       "      <td>(2013.0, 2018.0]</td>\n",
       "    </tr>\n",
       "    <tr>\n",
       "      <th>...</th>\n",
       "      <td>...</td>\n",
       "      <td>...</td>\n",
       "      <td>...</td>\n",
       "      <td>...</td>\n",
       "      <td>...</td>\n",
       "      <td>...</td>\n",
       "      <td>...</td>\n",
       "      <td>...</td>\n",
       "    </tr>\n",
       "    <tr>\n",
       "      <th>2132</th>\n",
       "      <td>4106.0</td>\n",
       "      <td>1998</td>\n",
       "      <td>USA</td>\n",
       "      <td>Swimming</td>\n",
       "      <td>40</td>\n",
       "      <td>N</td>\n",
       "      <td>Mar</td>\n",
       "      <td>NaN</td>\n",
       "    </tr>\n",
       "    <tr>\n",
       "      <th>2135</th>\n",
       "      <td>4103.0</td>\n",
       "      <td>1998</td>\n",
       "      <td>USA</td>\n",
       "      <td>Swimming</td>\n",
       "      <td>NaN</td>\n",
       "      <td>N</td>\n",
       "      <td>Feb</td>\n",
       "      <td>NaN</td>\n",
       "    </tr>\n",
       "    <tr>\n",
       "      <th>2136</th>\n",
       "      <td>4102.0</td>\n",
       "      <td>1998</td>\n",
       "      <td>AUSTRALIA</td>\n",
       "      <td>Spearfishing</td>\n",
       "      <td>31</td>\n",
       "      <td>NaN</td>\n",
       "      <td>Jan</td>\n",
       "      <td>NaN</td>\n",
       "    </tr>\n",
       "    <tr>\n",
       "      <th>2138</th>\n",
       "      <td>4099.0</td>\n",
       "      <td>1998</td>\n",
       "      <td>SOUTH AFRICA</td>\n",
       "      <td>Surfing</td>\n",
       "      <td>21</td>\n",
       "      <td>N</td>\n",
       "      <td>Jan</td>\n",
       "      <td>NaN</td>\n",
       "    </tr>\n",
       "    <tr>\n",
       "      <th>2139</th>\n",
       "      <td>4098.0</td>\n",
       "      <td>1998</td>\n",
       "      <td>AUSTRALIA</td>\n",
       "      <td>Surfing</td>\n",
       "      <td>NaN</td>\n",
       "      <td>N</td>\n",
       "      <td>Jan</td>\n",
       "      <td>NaN</td>\n",
       "    </tr>\n",
       "  </tbody>\n",
       "</table>\n",
       "<p>1052 rows × 8 columns</p>\n",
       "</div>"
      ],
      "text/plain": [
       "      original_order  Year       Country      Activity  Age Fatal_(Y/N) Month  \\\n",
       "2             6301.0  2018           USA       Surfing   48           N   Jun   \n",
       "3             6300.0  2018     AUSTRALIA       Surfing  NaN           N   Jun   \n",
       "6             6297.0  2018        BRAZIL      Swimming   18           Y   Jun   \n",
       "7             6296.0  2018           USA       Fishing   52           N   May   \n",
       "12            6291.0  2018           USA      Swimming   10           N   May   \n",
       "...              ...   ...           ...           ...  ...         ...   ...   \n",
       "2132          4106.0  1998           USA      Swimming   40           N   Mar   \n",
       "2135          4103.0  1998           USA      Swimming  NaN           N   Feb   \n",
       "2136          4102.0  1998     AUSTRALIA  Spearfishing   31         NaN   Jan   \n",
       "2138          4099.0  1998  SOUTH AFRICA       Surfing   21           N   Jan   \n",
       "2139          4098.0  1998     AUSTRALIA       Surfing  NaN           N   Jan   \n",
       "\n",
       "            Year_range  \n",
       "2     (2013.0, 2018.0]  \n",
       "3     (2013.0, 2018.0]  \n",
       "6     (2013.0, 2018.0]  \n",
       "7     (2013.0, 2018.0]  \n",
       "12    (2013.0, 2018.0]  \n",
       "...                ...  \n",
       "2132               NaN  \n",
       "2135               NaN  \n",
       "2136               NaN  \n",
       "2138               NaN  \n",
       "2139               NaN  \n",
       "\n",
       "[1052 rows x 8 columns]"
      ]
     },
     "execution_count": 50,
     "metadata": {},
     "output_type": "execute_result"
    }
   ],
   "source": [
    "top_activities"
   ]
  },
  {
   "cell_type": "code",
   "execution_count": 51,
   "metadata": {},
   "outputs": [
    {
     "data": {
      "image/png": "[encoded data removed]",
      "text/plain": [
       "<Figure size 864x288 with 1 Axes>"
      ]
     },
     "metadata": {
      "needs_background": "light"
     },
     "output_type": "display_data"
    }
   ],
   "source": [
    "sns_7 = sns.countplot(data = top_activities, x = \"Activity\")\n",
    "#As can be seen, surfing is the activity where most attacks are recorded. Followed by swimming."
   ]
  },
  {
   "cell_type": "code",
   "execution_count": 52,
   "metadata": {},
   "outputs": [
    {
     "data": {
      "image/png": "[encoded data removed]",
      "text/plain": [
       "<Figure size 864x288 with 1 Axes>"
      ]
     },
     "metadata": {
      "needs_background": "light"
     },
     "output_type": "display_data"
    }
   ],
   "source": [
    "sns_8 = sns.countplot(data = top_activities, x = \"Activity\", hue = \"Country\")\n",
    "#If we check the countries with the most attacks, we can see that surfing predominates in most of them."
   ]
  },
  {
   "cell_type": "markdown",
   "metadata": {},
   "source": [
    "We can *accept* the initial hypothesis, since, as we have seen, surfing is **the activity that collects the most attacks.**. This is probably because surfers spend a lot of time in the water, and from a shark's point of view, they look like a turtle, the main prey of many of these animals. But, is surfing the activity that records the most deaths?"
   ]
  },
  {
   "cell_type": "code",
   "execution_count": 63,
   "metadata": {},
   "outputs": [
    {
     "data": {
      "image/png": "[encoded data removed]",
      "text/plain": [
       "<Figure size 864x288 with 1 Axes>"
      ]
     },
     "metadata": {
      "needs_background": "light"
     },
     "output_type": "display_data"
    }
   ],
   "source": [
    "sns_9 = sns.countplot(data = top_activities, x = \"Activity\", hue = \"Fatal_(Y/N)\")\n",
    "#One would think so, since the more attacks, the more deaths there should be.\n",
    "#But, we see that this is not the case, the activity that leaves more deaths due to shark attacks is swimming."
   ]
  },
  {
   "cell_type": "markdown",
   "metadata": {},
   "source": [
    "In view of this, swimming is a very dangerous activity as well, since, although it has far fewer attacks than surfing, shark attacks are more deadly in the swimming activity. \n",
    "Therefore, even if we accept the hypothesis above, swimming can also be considered more dangerous, because there is less chance of attack, but also less chance of survival."
   ]
  },
  {
   "cell_type": "code",
   "execution_count": 64,
   "metadata": {},
   "outputs": [],
   "source": [
    "sns_1.figure.savefig(\"sns1.jpg\", dpi=100) #save the figures"
   ]
  },
  {
   "cell_type": "code",
   "execution_count": 65,
   "metadata": {},
   "outputs": [],
   "source": [
    "sns_2.figure.savefig(\"sns2.jpg\", dpi=100)"
   ]
  },
  {
   "cell_type": "code",
   "execution_count": 66,
   "metadata": {},
   "outputs": [],
   "source": [
    "sns_3.figure.savefig(\"sns3.jpg\", dpi=100)"
   ]
  },
  {
   "cell_type": "code",
   "execution_count": 67,
   "metadata": {},
   "outputs": [],
   "source": [
    "sns_4.figure.savefig(\"sns4.jpg\", dpi=100)"
   ]
  },
  {
   "cell_type": "code",
   "execution_count": 68,
   "metadata": {},
   "outputs": [],
   "source": [
    "sns_5.figure.savefig(\"sns5.jpg\", dpi=100)"
   ]
  },
  {
   "cell_type": "code",
   "execution_count": 69,
   "metadata": {},
   "outputs": [],
   "source": [
    "sns_6.figure.savefig(\"sns6.jpg\", dpi=100)"
   ]
  },
  {
   "cell_type": "code",
   "execution_count": 70,
   "metadata": {},
   "outputs": [],
   "source": [
    "sns_7.figure.savefig(\"sns7.jpg\", dpi=100)"
   ]
  },
  {
   "cell_type": "code",
   "execution_count": 71,
   "metadata": {},
   "outputs": [],
   "source": [
    "sns_8.figure.savefig(\"sns8.jpg\", dpi=100)"
   ]
  },
  {
   "cell_type": "code",
   "execution_count": 72,
   "metadata": {},
   "outputs": [],
   "source": [
    "sns_9.figure.savefig(\"sns9.jpg\", dpi=100)"
   ]
  }
 ],
 "metadata": {
  "kernelspec": {
   "display_name": "Python 3",
   "language": "python",
   "name": "python3"
  },
  "language_info": {
   "codemirror_mode": {
    "name": "ipython",
    "version": 3
   },
   "file_extension": ".py",
   "mimetype": "text/x-python",
   "name": "python",
   "nbconvert_exporter": "python",
   "pygments_lexer": "ipython3",
   "version": "3.8.5"
  }
 },
 "nbformat": 4,
 "nbformat_minor": 4
}
